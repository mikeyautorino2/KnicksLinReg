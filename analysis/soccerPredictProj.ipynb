{
 "cells": [
  {
   "cell_type": "markdown",
   "metadata": {},
   "source": [
    "Part 0: Setup"
   ]
  },
  {
   "cell_type": "code",
   "execution_count": 1,
   "metadata": {},
   "outputs": [],
   "source": [
    "from bs4 import BeautifulSoup, Comment\n",
    "import pandas as pd\n",
    "import time\n",
    "import numpy as np\n",
    "import requests\n",
    "import matplotlib.pyplot as plt\n"
   ]
  },
  {
   "cell_type": "code",
   "execution_count": 2,
   "metadata": {},
   "outputs": [],
   "source": [
    "URL = 'https://www.basketball-reference.com/teams/NYK/2025.html#per_game_stats'  \n",
    "TABLE_ID = 'per_game_stats'"
   ]
  },
  {
   "cell_type": "markdown",
   "metadata": {},
   "source": [
    "Part One: Webscraping"
   ]
  },
  {
   "cell_type": "code",
   "execution_count": 3,
   "metadata": {},
   "outputs": [
    {
     "name": "stdout",
     "output_type": "stream",
     "text": [
      "Fetching the webpage: https://www.basketball-reference.com/teams/NYK/2025.html#per_game_stats\n",
      "Parsing the table with id 'per_game_stats'...\n"
     ]
    },
    {
     "name": "stderr",
     "output_type": "stream",
     "text": [
      "C:\\Users\\mikey\\AppData\\Local\\Temp\\ipykernel_1436\\3111969890.py:26: MarkupResemblesLocatorWarning: The input looks more like a filename than markup. You may want to open this file and pass the filehandle into Beautiful Soup.\n",
      "  comment_soup = BeautifulSoup(comment, 'html.parser')\n"
     ]
    },
    {
     "name": "stdout",
     "output_type": "stream",
     "text": [
      "Found the table 'per_game_stats' in the main HTML.\n",
      "\n",
      "Extracted DataFrame:\n",
      "                Player   Age  Pos   G  GS     MP    FG   FGA    FG%    3P  \\\n",
      "0        Mikal Bridges  28.0   SF  37  37   39.2   7.7  15.2  0.506   2.4   \n",
      "1            Josh Hart  29.0   SG  36  36   37.7   5.4   9.5  0.563   1.3   \n",
      "2           OG Anunoby  27.0   PF  37  37   36.5   6.2  13.1  0.474   2.1   \n",
      "3        Jalen Brunson  28.0   PG  36  36   35.0   8.6  18.1  0.478   2.3   \n",
      "4   Karl-Anthony Towns  29.0    C  34  34   34.6   9.1  16.5  0.550   2.1   \n",
      "5        Miles McBride  24.0   PG  28   0   24.5   3.4   8.1  0.425   1.9   \n",
      "6     Precious Achiuwa  25.0   PF  16   1   19.0   2.3   4.4  0.521   0.3   \n",
      "7        Cameron Payne  30.0   PG  31   1   15.4   2.5   5.9  0.423   1.5   \n",
      "8         Jericho Sims  26.0    C  31   3   11.9   0.8   1.2  0.632   0.0   \n",
      "9        Landry Shamet  27.0   SG   8   0   11.5   1.3   2.8  0.455   0.4   \n",
      "10      Ariel Hukporti  22.0    C  12   0    8.3   0.8   1.2  0.643   0.0   \n",
      "11       Pacome Dadiet  19.0   SG  12   0    6.8   0.5   1.7  0.300   0.4   \n",
      "12         Tyler Kolek  23.0   PG  21   0    6.1   0.8   2.0  0.405   0.5   \n",
      "13           Matt Ryan  27.0   SF  11   0    4.4   0.5   1.9  0.286   0.3   \n",
      "14        Jacob Toppin  24.0   SF  10   0    2.6   0.1   0.3  0.333   0.0   \n",
      "15         Team Totals   NaN  NaN  37  37  240.7  43.5  87.6  0.497  13.3   \n",
      "\n",
      "    ...   ORB   DRB   TRB   AST  STL  BLK   TOV    PF    PTS  Awards  \n",
      "0   ...   0.9   2.4   3.3   3.2  1.1  0.5   1.6   1.5   18.6     NaN  \n",
      "1   ...   1.9   7.2   9.1   5.6  1.4  0.4   1.9   2.5   14.3     NaN  \n",
      "2   ...   1.2   3.7   4.9   1.9  1.4  0.9   1.3   2.4   16.3     NaN  \n",
      "3   ...   0.5   2.4   2.9   7.6  0.8  0.1   2.4   2.3   25.3     NaN  \n",
      "4   ...   3.0  11.0  14.0   3.4  0.9  0.9   2.6   3.6   25.3     NaN  \n",
      "5   ...   0.8   1.9   2.6   3.0  0.9  0.2   0.9   1.6    9.8     NaN  \n",
      "6   ...   1.9   4.1   6.0   0.9  0.6  0.7   1.0   1.4    5.6     NaN  \n",
      "7   ...   0.3   1.2   1.5   2.7  0.6  0.3   0.7   1.8    6.9     NaN  \n",
      "8   ...   1.3   2.4   3.6   0.6  0.2  0.3   0.5   1.3    1.7     NaN  \n",
      "9   ...   0.1   0.5   0.6   0.6  0.8  0.1   0.4   0.5    2.9     NaN  \n",
      "10  ...   0.3   1.5   1.8   0.5  0.0  0.7   0.8   1.2    1.8     NaN  \n",
      "11  ...   0.0   1.1   1.1   0.4  0.1  0.2   0.1   0.4    1.6     NaN  \n",
      "12  ...   0.1   0.5   0.6   0.7  0.3  0.0   0.3   0.6    2.3     NaN  \n",
      "13  ...   0.0   0.3   0.3   0.0  0.1  0.0   0.3   0.0    1.4     NaN  \n",
      "14  ...   0.0   0.4   0.4   0.4  0.0  0.0   0.1   0.1    0.2     NaN  \n",
      "15  ...  10.1  33.1  43.2  27.5  7.6  4.0  13.1  17.2  117.2     NaN  \n",
      "\n",
      "[16 rows x 29 columns]\n",
      "\n",
      "Data extraction successful.\n"
     ]
    },
    {
     "name": "stderr",
     "output_type": "stream",
     "text": [
      "C:\\Users\\mikey\\AppData\\Local\\Temp\\ipykernel_1436\\3111969890.py:36: FutureWarning: Passing literal html to 'read_html' is deprecated and will be removed in a future version. To read from a literal string, wrap it in a 'StringIO' object.\n",
      "  return pd.read_html(str(table))[0]\n"
     ]
    }
   ],
   "source": [
    "def fetch_page(url):\n",
    "    \n",
    "    \n",
    "    try:\n",
    "        headers = {\n",
    "            'User-Agent': 'Mozilla/5.0 (Windows NT 10.0; Win64; x64)'\n",
    "                          ' AppleWebKit/537.36 (KHTML, like Gecko)'\n",
    "                          ' Chrome/115.0.0.0 Safari/537.36'\n",
    "        }\n",
    "        response = requests.get(url, headers=headers)\n",
    "        response.raise_for_status()  # Raises HTTPError for bad responses (4xx or 5xx)\n",
    "        return response.text\n",
    "    except requests.exceptions.HTTPError as http_err:\n",
    "        print(f\"HTTP error occurred while fetching the page: {http_err}\")\n",
    "    except Exception as err:\n",
    "        print(f\"An error occurred while fetching the page: {err}\")\n",
    "    return None\n",
    "\n",
    "def parse_table(html_content, table_id):\n",
    "  \n",
    "    soup = BeautifulSoup(html_content, 'html.parser')\n",
    "\n",
    "    # Search for the table within HTML comments\n",
    "    comments = soup.find_all(string=lambda text: isinstance(text, Comment))\n",
    "    for comment in comments:\n",
    "        comment_soup = BeautifulSoup(comment, 'html.parser')\n",
    "        table = comment_soup.find('table', id=table_id)\n",
    "        if table:\n",
    "            print(f\"Found the table '{table_id}' within HTML comments.\")\n",
    "            return pd.read_html(str(table))[0]\n",
    "\n",
    "    # If the table wasn't found within comments, search the main HTML\n",
    "    table = soup.find('table', id=table_id)\n",
    "    if table:\n",
    "        print(f\"Found the table '{table_id}' in the main HTML.\")\n",
    "        return pd.read_html(str(table))[0]\n",
    "\n",
    "    print(f\"Table with id '{table_id}' not found.\")\n",
    "    return None\n",
    "\n",
    "def clean_dataframe(df):\n",
    "   \n",
    "    # Drop the 'Rk' column if it's just a ranking index\n",
    "    if 'Rk' in df.columns:\n",
    "        df = df.drop(columns=['Rk'])\n",
    "\n",
    "    # Rename columns for clarity (optional)\n",
    "    df.columns = [col.replace('*', '').strip() for col in df.columns]\n",
    "\n",
    "    # Further cleaning steps can be added here as needed\n",
    "\n",
    "    return df\n",
    "\n",
    "def main(url, table_id):\n",
    "   \n",
    "    # Step 1: Fetch the webpage content\n",
    "    print(f\"Fetching the webpage: {url}\")\n",
    "    html_content = fetch_page(url)\n",
    "\n",
    "    if not html_content:\n",
    "        print(\"Failed to retrieve the webpage content.\")\n",
    "        return None\n",
    "\n",
    "    # Step 2: Parse and extract the table\n",
    "    print(f\"Parsing the table with id '{table_id}'...\")\n",
    "    df = parse_table(html_content, table_id)\n",
    "\n",
    "    if df is not None:\n",
    "        # Step 3: Clean the DataFrame\n",
    "        df = clean_dataframe(df)\n",
    "        return df\n",
    "    else:\n",
    "        print(\"Failed to extract the desired table.\")\n",
    "        return None\n",
    "\n",
    "\n",
    "if __name__ == \"__main__\":\n",
    "    url = 'https://www.basketball-reference.com/teams/NYK/2025.html#per_game_stats'\n",
    "\n",
    "    table_id = 'per_game_stats'\n",
    "\n",
    "    df = main(url, table_id)\n",
    "\n",
    "    if df is not None:\n",
    "        print(\"\\nExtracted DataFrame:\")\n",
    "        print(df)  # Prints the entire DataFrame\n",
    "\n",
    "        print(\"\\nData extraction successful.\")\n",
    "    else:\n",
    "        print(\"Data extraction was unsuccessful.\")\n"
   ]
  },
  {
   "cell_type": "markdown",
   "metadata": {},
   "source": [
    "Part Two: Cleaning"
   ]
  },
  {
   "cell_type": "code",
   "execution_count": 4,
   "metadata": {},
   "outputs": [
    {
     "data": {
      "text/plain": [
       "Player     0\n",
       "Age        1\n",
       "Pos        1\n",
       "G          0\n",
       "GS         0\n",
       "MP         0\n",
       "FG         0\n",
       "FGA        0\n",
       "FG%        0\n",
       "3P         0\n",
       "3PA        0\n",
       "3P%        2\n",
       "2P         0\n",
       "2PA        0\n",
       "2P%        0\n",
       "eFG%       0\n",
       "FT         0\n",
       "FTA        0\n",
       "FT%        3\n",
       "ORB        0\n",
       "DRB        0\n",
       "TRB        0\n",
       "AST        0\n",
       "STL        0\n",
       "BLK        0\n",
       "TOV        0\n",
       "PF         0\n",
       "PTS        0\n",
       "Awards    16\n",
       "dtype: int64"
      ]
     },
     "execution_count": 4,
     "metadata": {},
     "output_type": "execute_result"
    }
   ],
   "source": [
    "#Identify missing values\n",
    "df.isnull().sum()"
   ]
  },
  {
   "cell_type": "markdown",
   "metadata": {},
   "source": [
    "Handling Missing Values"
   ]
  },
  {
   "cell_type": "code",
   "execution_count": 5,
   "metadata": {},
   "outputs": [],
   "source": [
    "df['3P%'] = df['3P%'].fillna(df['3PA'].ffill())\n",
    "df['Age'] = df['Age'].fillna(df['Player'].ffill())\n",
    "df['Pos'] = df['Pos'].fillna(df['Player'].ffill())"
   ]
  },
  {
   "cell_type": "code",
   "execution_count": 6,
   "metadata": {},
   "outputs": [],
   "source": [
    "df.drop('Awards', axis = 1, inplace = True)"
   ]
  },
  {
   "cell_type": "markdown",
   "metadata": {},
   "source": [
    "Part Three: Implementing Model"
   ]
  },
  {
   "cell_type": "code",
   "execution_count": 7,
   "metadata": {},
   "outputs": [],
   "source": [
    "data_conv = df.to_csv('data.csv', index=False)"
   ]
  },
  {
   "cell_type": "code",
   "execution_count": 8,
   "metadata": {},
   "outputs": [
    {
     "data": {
      "text/html": [
       "<div>\n",
       "<style scoped>\n",
       "    .dataframe tbody tr th:only-of-type {\n",
       "        vertical-align: middle;\n",
       "    }\n",
       "\n",
       "    .dataframe tbody tr th {\n",
       "        vertical-align: top;\n",
       "    }\n",
       "\n",
       "    .dataframe thead th {\n",
       "        text-align: right;\n",
       "    }\n",
       "</style>\n",
       "<table border=\"1\" class=\"dataframe\">\n",
       "  <thead>\n",
       "    <tr style=\"text-align: right;\">\n",
       "      <th></th>\n",
       "      <th>Player</th>\n",
       "      <th>Age</th>\n",
       "      <th>Pos</th>\n",
       "      <th>G</th>\n",
       "      <th>GS</th>\n",
       "      <th>MP</th>\n",
       "      <th>FG</th>\n",
       "      <th>FGA</th>\n",
       "      <th>FG%</th>\n",
       "      <th>3P</th>\n",
       "      <th>...</th>\n",
       "      <th>FT%</th>\n",
       "      <th>ORB</th>\n",
       "      <th>DRB</th>\n",
       "      <th>TRB</th>\n",
       "      <th>AST</th>\n",
       "      <th>STL</th>\n",
       "      <th>BLK</th>\n",
       "      <th>TOV</th>\n",
       "      <th>PF</th>\n",
       "      <th>PTS</th>\n",
       "    </tr>\n",
       "  </thead>\n",
       "  <tbody>\n",
       "    <tr>\n",
       "      <th>0</th>\n",
       "      <td>Mikal Bridges</td>\n",
       "      <td>28.0</td>\n",
       "      <td>SF</td>\n",
       "      <td>37</td>\n",
       "      <td>37</td>\n",
       "      <td>39.2</td>\n",
       "      <td>7.7</td>\n",
       "      <td>15.2</td>\n",
       "      <td>0.506</td>\n",
       "      <td>2.4</td>\n",
       "      <td>...</td>\n",
       "      <td>0.705</td>\n",
       "      <td>0.9</td>\n",
       "      <td>2.4</td>\n",
       "      <td>3.3</td>\n",
       "      <td>3.2</td>\n",
       "      <td>1.1</td>\n",
       "      <td>0.5</td>\n",
       "      <td>1.6</td>\n",
       "      <td>1.5</td>\n",
       "      <td>18.6</td>\n",
       "    </tr>\n",
       "    <tr>\n",
       "      <th>1</th>\n",
       "      <td>Josh Hart</td>\n",
       "      <td>29.0</td>\n",
       "      <td>SG</td>\n",
       "      <td>36</td>\n",
       "      <td>36</td>\n",
       "      <td>37.7</td>\n",
       "      <td>5.4</td>\n",
       "      <td>9.5</td>\n",
       "      <td>0.563</td>\n",
       "      <td>1.3</td>\n",
       "      <td>...</td>\n",
       "      <td>0.814</td>\n",
       "      <td>1.9</td>\n",
       "      <td>7.2</td>\n",
       "      <td>9.1</td>\n",
       "      <td>5.6</td>\n",
       "      <td>1.4</td>\n",
       "      <td>0.4</td>\n",
       "      <td>1.9</td>\n",
       "      <td>2.5</td>\n",
       "      <td>14.3</td>\n",
       "    </tr>\n",
       "    <tr>\n",
       "      <th>2</th>\n",
       "      <td>OG Anunoby</td>\n",
       "      <td>27.0</td>\n",
       "      <td>PF</td>\n",
       "      <td>37</td>\n",
       "      <td>37</td>\n",
       "      <td>36.5</td>\n",
       "      <td>6.2</td>\n",
       "      <td>13.1</td>\n",
       "      <td>0.474</td>\n",
       "      <td>2.1</td>\n",
       "      <td>...</td>\n",
       "      <td>0.788</td>\n",
       "      <td>1.2</td>\n",
       "      <td>3.7</td>\n",
       "      <td>4.9</td>\n",
       "      <td>1.9</td>\n",
       "      <td>1.4</td>\n",
       "      <td>0.9</td>\n",
       "      <td>1.3</td>\n",
       "      <td>2.4</td>\n",
       "      <td>16.3</td>\n",
       "    </tr>\n",
       "    <tr>\n",
       "      <th>3</th>\n",
       "      <td>Jalen Brunson</td>\n",
       "      <td>28.0</td>\n",
       "      <td>PG</td>\n",
       "      <td>36</td>\n",
       "      <td>36</td>\n",
       "      <td>35.0</td>\n",
       "      <td>8.6</td>\n",
       "      <td>18.1</td>\n",
       "      <td>0.478</td>\n",
       "      <td>2.3</td>\n",
       "      <td>...</td>\n",
       "      <td>0.824</td>\n",
       "      <td>0.5</td>\n",
       "      <td>2.4</td>\n",
       "      <td>2.9</td>\n",
       "      <td>7.6</td>\n",
       "      <td>0.8</td>\n",
       "      <td>0.1</td>\n",
       "      <td>2.4</td>\n",
       "      <td>2.3</td>\n",
       "      <td>25.3</td>\n",
       "    </tr>\n",
       "    <tr>\n",
       "      <th>4</th>\n",
       "      <td>Karl-Anthony Towns</td>\n",
       "      <td>29.0</td>\n",
       "      <td>C</td>\n",
       "      <td>34</td>\n",
       "      <td>34</td>\n",
       "      <td>34.6</td>\n",
       "      <td>9.1</td>\n",
       "      <td>16.5</td>\n",
       "      <td>0.550</td>\n",
       "      <td>2.1</td>\n",
       "      <td>...</td>\n",
       "      <td>0.828</td>\n",
       "      <td>3.0</td>\n",
       "      <td>11.0</td>\n",
       "      <td>14.0</td>\n",
       "      <td>3.4</td>\n",
       "      <td>0.9</td>\n",
       "      <td>0.9</td>\n",
       "      <td>2.6</td>\n",
       "      <td>3.6</td>\n",
       "      <td>25.3</td>\n",
       "    </tr>\n",
       "  </tbody>\n",
       "</table>\n",
       "<p>5 rows × 28 columns</p>\n",
       "</div>"
      ],
      "text/plain": [
       "               Player   Age Pos   G  GS    MP   FG   FGA    FG%   3P  ...  \\\n",
       "0       Mikal Bridges  28.0  SF  37  37  39.2  7.7  15.2  0.506  2.4  ...   \n",
       "1           Josh Hart  29.0  SG  36  36  37.7  5.4   9.5  0.563  1.3  ...   \n",
       "2          OG Anunoby  27.0  PF  37  37  36.5  6.2  13.1  0.474  2.1  ...   \n",
       "3       Jalen Brunson  28.0  PG  36  36  35.0  8.6  18.1  0.478  2.3  ...   \n",
       "4  Karl-Anthony Towns  29.0   C  34  34  34.6  9.1  16.5  0.550  2.1  ...   \n",
       "\n",
       "     FT%  ORB   DRB   TRB  AST  STL  BLK  TOV   PF   PTS  \n",
       "0  0.705  0.9   2.4   3.3  3.2  1.1  0.5  1.6  1.5  18.6  \n",
       "1  0.814  1.9   7.2   9.1  5.6  1.4  0.4  1.9  2.5  14.3  \n",
       "2  0.788  1.2   3.7   4.9  1.9  1.4  0.9  1.3  2.4  16.3  \n",
       "3  0.824  0.5   2.4   2.9  7.6  0.8  0.1  2.4  2.3  25.3  \n",
       "4  0.828  3.0  11.0  14.0  3.4  0.9  0.9  2.6  3.6  25.3  \n",
       "\n",
       "[5 rows x 28 columns]"
      ]
     },
     "execution_count": 8,
     "metadata": {},
     "output_type": "execute_result"
    }
   ],
   "source": [
    "data = pd.read_csv('data.csv')\n",
    "data.head()"
   ]
  },
  {
   "cell_type": "code",
   "execution_count": 9,
   "metadata": {},
   "outputs": [],
   "source": [
    "def gradient_descent(m_now, b_now, points, L):\n",
    "    m_gradient = 0\n",
    "    b_gradient = 0\n",
    "    n = len(points)\n",
    "    for i in range(n):\n",
    "        x = points.iloc[i]['GS']\n",
    "        y = points.iloc[i]['TOV']\n",
    "    \n",
    "        m_gradient += -(2/n) * x * (y - (m_now * x + b_now))\n",
    "        b_gradient += -(2/n) * (y - (m_now * x + b_now))\n",
    "    m = m_now - m_gradient * L\n",
    "    b = b_now - b_gradient * L\n",
    "\n",
    "    return m,b"
   ]
  },
  {
   "cell_type": "markdown",
   "metadata": {},
   "source": [
    "Testing Model"
   ]
  },
  {
   "cell_type": "code",
   "execution_count": 20,
   "metadata": {},
   "outputs": [
    {
     "name": "stdout",
     "output_type": "stream",
     "text": [
      "0.10635902484419255 0.008358810097779223\n"
     ]
    },
    {
     "data": {
      "text/plain": [
       "Text(0.5, 1.0, 'Games Started vs Turnovers Per Game')"
      ]
     },
     "execution_count": 20,
     "metadata": {},
     "output_type": "execute_result"
    },
    {
     "data": {
      "image/png": "[encoded data removed]",
      "text/plain": [
       "<Figure size 640x480 with 1 Axes>"
      ]
     },
     "metadata": {},
     "output_type": "display_data"
    }
   ],
   "source": [
    "m = 0\n",
    "b = 0\n",
    "L = 0.000001\n",
    "epochs  = 10000\n",
    "\n",
    "for i in range(epochs):\n",
    "    m,b = gradient_descent(m,b,df,L)\n",
    "print(m,b)\n",
    "\n",
    "plt.scatter(df['GS'],df['TOV'])\n",
    "plt.plot(list(range(0,38)), [m*x + b for x in range(0,38)], color='black')\n",
    "plt.xlabel('GS')\n",
    "plt.ylabel('TOV')\n",
    "plt.title('Games Started vs Turnovers Per Game')\n"
   ]
  },
  {
   "cell_type": "code",
   "execution_count": 21,
   "metadata": {},
   "outputs": [
    {
     "name": "stdout",
     "output_type": "stream",
     "text": [
      "The correlation between 'Games Started' and 'Turnovers Per Game' is: 0.537233264510798\n"
     ]
    }
   ],
   "source": [
    "r = df['GS'].corr(df['TOV'])\n",
    "print(f\"The correlation between 'Games Started' and 'Turnovers Per Game' is: {r}\")"
   ]
  }
 ],
 "metadata": {
  "kernelspec": {
   "display_name": "Python 3",
   "language": "python",
   "name": "python3"
  },
  "language_info": {
   "codemirror_mode": {
    "name": "ipython",
    "version": 3
   },
   "file_extension": ".py",
   "mimetype": "text/x-python",
   "name": "python",
   "nbconvert_exporter": "python",
   "pygments_lexer": "ipython3",
   "version": "3.12.6"
  }
 },
 "nbformat": 4,
 "nbformat_minor": 2
}
